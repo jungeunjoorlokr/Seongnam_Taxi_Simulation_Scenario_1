{
 "cells": [
  {
   "cell_type": "code",
   "execution_count": 1,
   "id": "d995f22b",
   "metadata": {},
   "outputs": [
    {
     "name": "stdout",
     "output_type": "stream",
     "text": [
      "LangGraph successfully installed!\n"
     ]
    }
   ],
   "source": [
    "from langgraph.graph import StateGraph\n",
    "\n",
    "print(\"LangGraph successfully installed!\")"
   ]
  },
  {
   "cell_type": "code",
   "execution_count": 1,
   "id": "c4d86987",
   "metadata": {},
   "outputs": [],
   "source": [
    "import numpy as np \n",
    "import pandas as pd \n",
    "import geopandas as gpd\n",
    "import json\n",
    "from shapely.ops import unary_union\n",
    "import random\n",
    "import os\n",
    "import folium \n",
    "from requests.adapters import HTTPAdapter \n",
    "from urllib3.util.retry import Retry \n",
    "from datetime import timedelta\n",
    "from shapely.geometry import Point \n",
    "from ortools.linear_solver import pywraplp \n",
    "from tqdm import tqdm \n",
    "import pickle\n",
    "import warnings; warnings.filterwarnings('ignore')"
   ]
  },
  {
   "cell_type": "code",
   "execution_count": 2,
   "id": "8e4065fd",
   "metadata": {},
   "outputs": [
    {
     "name": "stdout",
     "output_type": "stream",
     "text": [
      "/Users/jung-eunjoo/Desktop/은주/연구/AI_agent/Seongnam_Scenario_1\n"
     ]
    }
   ],
   "source": [
    "print(os.getcwd())  # 지금 실행되는 작업 디렉토리"
   ]
  },
  {
   "cell_type": "code",
   "execution_count": 3,
   "id": "0621e511",
   "metadata": {},
   "outputs": [
    {
     "name": "stdout",
     "output_type": "stream",
     "text": [
      "변경 후 작업 디렉토리: /Users/jung-eunjoo/Desktop/은주/연구/AI_agent/Seongnam_Scenario_1\n"
     ]
    }
   ],
   "source": [
    "# 원하는 경로로 변경\n",
    "os.chdir(\"/Users/jung-eunjoo/Desktop/은주/연구/AI_agent/Seongnam_Scenario_1\")\n",
    "\n",
    "print(\"변경 후 작업 디렉토리:\", os.getcwd())"
   ]
  },
  {
   "cell_type": "code",
   "execution_count": 4,
   "id": "cf057679",
   "metadata": {},
   "outputs": [],
   "source": [
    "boundary_path = \"data/seongnam_boundary.geojson\"\n",
    "taxi_path = \"raw_data/Seongnam-si/Seongnam_Taxi/(SNRI) TIMS자료_영업별 자료_QUERRY_4월.xlsx\""
   ]
  },
  {
   "cell_type": "code",
   "execution_count": 5,
   "id": "5cb94822",
   "metadata": {},
   "outputs": [],
   "source": [
    "taxi_df = pd.read_excel(taxi_path)"
   ]
  },
  {
   "cell_type": "code",
   "execution_count": 6,
   "id": "987e9f59",
   "metadata": {},
   "outputs": [],
   "source": [
    "df = taxi_df \n",
    "\n",
    "# 1) 호출시간 = 승차시간 - 승차시간(sec)\n",
    "df[\"승차시간\"] = pd.to_datetime(df[\"승차시간\"], errors=\"coerce\")\n",
    "df[\"승차시간(sec)\"] = pd.to_numeric(df[\"승차시간(sec)\"], errors=\"coerce\")\n",
    "df[\"호출시간\"] = df[\"승차시간\"] - pd.to_timedelta(df[\"승차시간(sec)\"].fillna(0), unit=\"s\")\n"
   ]
  },
  {
   "cell_type": "code",
   "execution_count": 9,
   "id": "fa24d29d",
   "metadata": {},
   "outputs": [
    {
     "name": "stdout",
     "output_type": "stream",
     "text": [
      "rows in window: 4840\n"
     ]
    }
   ],
   "source": [
    "# 호출시간이 datetime인지 확인 + 변환\n",
    "df[\"호출시간\"] = pd.to_datetime(df[\"호출시간\"], errors=\"coerce\")\n",
    "\n",
    "start = pd.Timestamp(\"2024-04-18 23:00:00\")\n",
    "end   = pd.Timestamp(\"2024-04-19 02:00:00\")\n",
    "\n",
    "night_df = df.loc[df[\"호출시간\"].between(start, end, inclusive=\"both\")].copy()\n",
    "print(\"rows in window:\", len(night_df))"
   ]
  },
  {
   "cell_type": "code",
   "execution_count": 10,
   "id": "0e1c5ef7",
   "metadata": {},
   "outputs": [],
   "source": [
    "# --- (필수) 컬럼명 숨은 문자/공백 정리 (가끔 엑셀에서 섞임) ---\n",
    "df.columns = [str(c).replace(\"\\x08\",\"\").strip() for c in df.columns]\n",
    "\n",
    "# --- (필수) taxi_type 생성: 개인=0, 법인/일반=1 ---\n",
    "def map_taxi_type(v):\n",
    "    s = (\"\" if pd.isna(v) else str(v)).strip().lower().replace(\" \", \"\")\n",
    "    if \"개인\" in s: return 0\n",
    "    if (\"법인\" in s) or (\"일반\" in s): return 1\n",
    "    return 1\n",
    "\n",
    "df[\"taxi_type\"] = df[\"구분\"].map(map_taxi_type).astype(\"Int64\")"
   ]
  },
  {
   "cell_type": "code",
   "execution_count": 13,
   "id": "0956f74c",
   "metadata": {},
   "outputs": [],
   "source": [
    "# taxi_type: 개인=0, 법인=1 이라고 가정\n",
    "# 차량번호별 최빈값(모드)으로 일관 라벨 부여\n",
    "type_mode = (\n",
    "    df\n",
    "    .dropna(subset=[\"차량번호\"])\n",
    "    .groupby(\"차량번호\")[\"taxi_type\"]\n",
    "    .agg(lambda s: int(s.mode().iat[0]) if not s.mode().empty else 1)  # 비어있으면 법인(1) 디폴트\n",
    ")\n",
    "\n",
    "# 모드 라벨을 night_df에 붙여서 정정\n",
    "night_df[\"taxi_type_consistent\"] = night_df[\"차량번호\"].map(type_mode)"
   ]
  },
  {
   "cell_type": "code",
   "execution_count": 15,
   "id": "f1ab0525",
   "metadata": {},
   "outputs": [
    {
     "name": "stdout",
     "output_type": "stream",
     "text": [
      "overlap vehicles (should be 0): 0\n",
      "심야 데이터셋 관측 (2024-04-18 23시~02시, 고유 차량 기준)\n",
      "법인택시 활성 대수: 538\n",
      "개인택시 활성 대수: 425\n",
      "총합: 963\n"
     ]
    }
   ],
   "source": [
    "corp_set = set(night_df.loc[night_df[\"taxi_type_consistent\"] == 1, \"차량번호\"].dropna().unique())\n",
    "priv_set = set(night_df.loc[night_df[\"taxi_type_consistent\"] == 0, \"차량번호\"].dropna().unique())\n",
    "overlap  = corp_set & priv_set  # 이게 0이 되어야 정상\n",
    "\n",
    "print(\"overlap vehicles (should be 0):\", len(overlap))\n",
    "\n",
    "# 최종 고유 대수\n",
    "corp_unique = len(corp_set - overlap)\n",
    "priv_unique = len(priv_set - overlap)\n",
    "total_unique = len((corp_set | priv_set))\n",
    "\n",
    "print(\"심야 데이터셋 관측 (2024-04-18 23시~02시, 고유 차량 기준)\")\n",
    "print(f\"법인택시 활성 대수: {corp_unique}\")\n",
    "print(f\"개인택시 활성 대수: {priv_unique}\")\n",
    "print(f\"총합: {total_unique}\")"
   ]
  },
  {
   "cell_type": "code",
   "execution_count": 16,
   "id": "c552f55e",
   "metadata": {},
   "outputs": [
    {
     "name": "stdout",
     "output_type": "stream",
     "text": [
      "median |(하차-승차) - 승차시간(sec)|: 0.0\n"
     ]
    }
   ],
   "source": [
    "# 승차~하차 소요와 '승차시간(sec)' 비교\n",
    "df[\"승차시간\"] = pd.to_datetime(df[\"승차시간\"], errors=\"coerce\")\n",
    "df[\"하차시간\"] = pd.to_datetime(df[\"하차시간\"], errors=\"coerce\")\n",
    "dur_from_times = (df[\"하차시간\"] - df[\"승차시간\"]).dt.total_seconds()\n",
    "sec_col = pd.to_numeric(df[\"승차시간(sec)\"], errors=\"coerce\")\n",
    "diff = (dur_from_times - sec_col).abs()\n",
    "print(\"median |(하차-승차) - 승차시간(sec)|:\", np.nanmedian(diff))"
   ]
  },
  {
   "cell_type": "code",
   "execution_count": 17,
   "id": "7ce2580c",
   "metadata": {},
   "outputs": [
    {
     "name": "stdout",
     "output_type": "stream",
     "text": [
      "픽업기준 활성: 540 441 981\n"
     ]
    }
   ],
   "source": [
    "start = pd.Timestamp(\"2024-04-18 23:00:00\")\n",
    "end   = pd.Timestamp(\"2024-04-19 02:00:00\")\n",
    "mask_pickup = df[\"승차시간\"].between(start, end, inclusive=\"both\")\n",
    "\n",
    "# taxi_type 일관화(모드)\n",
    "type_mode = (df.dropna(subset=[\"차량번호\"])\n",
    "               .groupby(\"차량번호\")[\"taxi_type\"]\n",
    "               .agg(lambda s: int(s.mode().iat[0]) if not s.mode().empty else 1))\n",
    "tmp = df.loc[mask_pickup].copy()\n",
    "tmp[\"taxi_type_consistent\"] = tmp[\"차량번호\"].map(type_mode)\n",
    "\n",
    "corp = tmp.loc[tmp[\"taxi_type_consistent\"]==1, \"차량번호\"].nunique()\n",
    "priv = tmp.loc[tmp[\"taxi_type_consistent\"]==0, \"차량번호\"].nunique()\n",
    "print(\"픽업기준 활성:\", corp, priv, corp+priv)"
   ]
  },
  {
   "cell_type": "code",
   "execution_count": 19,
   "id": "8aa9d9e3",
   "metadata": {},
   "outputs": [
    {
     "name": "stdout",
     "output_type": "stream",
     "text": [
      "{'rows_total': 920506, 'rows_valid_both': 920506, 'exact_match_count': 920506, 'within_1s': 1.0, 'within_5s': 1.0, 'median_abs_diff': 0.0, 'mean_abs_diff': 0.0, 'max_abs_diff': 0.0, 'negative_duration_count': 0, 'nan_duration_count': 0, 'nan_sec_col_count': 0}\n",
      "mismatch_rows(>1s): 0\n"
     ]
    },
    {
     "data": {
      "text/html": [
       "<div>\n",
       "<style scoped>\n",
       "    .dataframe tbody tr th:only-of-type {\n",
       "        vertical-align: middle;\n",
       "    }\n",
       "\n",
       "    .dataframe tbody tr th {\n",
       "        vertical-align: top;\n",
       "    }\n",
       "\n",
       "    .dataframe thead th {\n",
       "        text-align: right;\n",
       "    }\n",
       "</style>\n",
       "<table border=\"1\" class=\"dataframe\">\n",
       "  <thead>\n",
       "    <tr style=\"text-align: right;\">\n",
       "      <th></th>\n",
       "      <th>승차시간</th>\n",
       "      <th>하차시간</th>\n",
       "      <th>승차시간(sec)</th>\n",
       "    </tr>\n",
       "  </thead>\n",
       "  <tbody>\n",
       "  </tbody>\n",
       "</table>\n",
       "</div>"
      ],
      "text/plain": [
       "Empty DataFrame\n",
       "Columns: [승차시간, 하차시간, 승차시간(sec)]\n",
       "Index: []"
      ]
     },
     "metadata": {},
     "output_type": "display_data"
    }
   ],
   "source": [
    "import numpy as np\n",
    "import pandas as pd\n",
    "\n",
    "# 1) 형 변환\n",
    "taxi_df[\"승차시간\"] = pd.to_datetime(taxi_df[\"승차시간\"], errors=\"coerce\")\n",
    "taxi_df[\"하차시간\"] = pd.to_datetime(taxi_df[\"하차시간\"], errors=\"coerce\")\n",
    "sec_col = pd.to_numeric(taxi_df[\"승차시간(sec)\"], errors=\"coerce\")\n",
    "\n",
    "# 2) 실제 주행시간(초) 계산\n",
    "dur = (taxi_df[\"하차시간\"] - taxi_df[\"승차시간\"]).dt.total_seconds()\n",
    "\n",
    "# 3) 비교 지표\n",
    "abs_diff = (dur - sec_col).abs()\n",
    "\n",
    "summary = {\n",
    "    \"rows_total\": len(taxi_df),\n",
    "    \"rows_valid_both\": int(np.sum(~pd.isna(dur) & ~pd.isna(sec_col))),\n",
    "    \"exact_match_count\": int(np.sum(abs_diff == 0)),\n",
    "    \"within_1s\": float(np.mean(abs_diff <= 1)) if len(abs_diff.dropna()) else np.nan,\n",
    "    \"within_5s\": float(np.mean(abs_diff <= 5)) if len(abs_diff.dropna()) else np.nan,\n",
    "    \"median_abs_diff\": float(np.nanmedian(abs_diff)),\n",
    "    \"mean_abs_diff\": float(np.nanmean(abs_diff)),\n",
    "    \"max_abs_diff\": float(np.nanmax(abs_diff)),\n",
    "    \"negative_duration_count\": int(np.sum(dur < 0)),\n",
    "    \"nan_duration_count\": int(np.sum(pd.isna(dur))),\n",
    "    \"nan_sec_col_count\": int(np.sum(pd.isna(sec_col))),\n",
    "}\n",
    "print(summary)\n",
    "\n",
    "# 4) 불일치 사례 몇 건만 확인(±1초 초과)\n",
    "mismatch = taxi_df.loc[abs_diff > 1, [\"승차시간\",\"하차시간\",\"승차시간(sec)\"]].copy()\n",
    "print(\"mismatch_rows(>1s):\", len(mismatch))\n",
    "display(mismatch.head(10))"
   ]
  },
  {
   "cell_type": "code",
   "execution_count": 20,
   "id": "51bb57c1",
   "metadata": {},
   "outputs": [
    {
     "data": {
      "text/plain": [
       "Index(['구분', '차량번호', '운송사업자 등록번호', '결제일시', '승차요금', '호출요금', '기타요금', '할증여부',\n",
       "       '결제구분(구분불가/현금/카드)', '승차시간', '승차X좌표', '승차Y좌표', '승차법정동코드', '하차시간',\n",
       "       '하차X좌표', '하차Y좌표', '하차법정동코드', '승차거리(m)', '승차전빈차거리(m)', '승차시간(sec)',\n",
       "       '결제연월일', '호출시간', 'taxi_type'],\n",
       "      dtype='object')"
      ]
     },
     "execution_count": 20,
     "metadata": {},
     "output_type": "execute_result"
    }
   ],
   "source": [
    "taxi_df.columns\n"
   ]
  }
 ],
 "metadata": {
  "kernelspec": {
   "display_name": "Seongnam_Scenario_1",
   "language": "python",
   "name": "python3"
  },
  "language_info": {
   "codemirror_mode": {
    "name": "ipython",
    "version": 3
   },
   "file_extension": ".py",
   "mimetype": "text/x-python",
   "name": "python",
   "nbconvert_exporter": "python",
   "pygments_lexer": "ipython3",
   "version": "3.13.5"
  }
 },
 "nbformat": 4,
 "nbformat_minor": 5
}
